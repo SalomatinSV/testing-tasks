{
 "cells": [
  {
   "cell_type": "code",
   "execution_count": 102,
   "id": "3d078d8b",
   "metadata": {
    "ExecuteTime": {
     "end_time": "2023-03-02T13:33:28.122540Z",
     "start_time": "2023-03-02T13:33:28.112538Z"
    }
   },
   "outputs": [],
   "source": [
    "import numpy as np\n",
    "from scipy import signal\n",
    "import scipy.fft\n",
    "import scipy.io.wavfile as wavfile"
   ]
  },
  {
   "cell_type": "code",
   "execution_count": 62,
   "id": "9d8c837f",
   "metadata": {
    "ExecuteTime": {
     "end_time": "2023-03-02T13:13:10.570807Z",
     "start_time": "2023-03-02T13:13:10.547802Z"
    }
   },
   "outputs": [],
   "source": [
    "def time_stretch(filename, stretch_factor, new_filename):\n",
    "    # Чтение wav-файла\n",
    "    sr, audio = wavfile.read(filename)\n",
    "    \n",
    "    # Параметры фазового вокодера\n",
    "    frame_size = 2048 #* 2\n",
    "    hop_length = frame_size // 4\n",
    "    fft_size = frame_size\n",
    "\n",
    "    # Анализ сигнала\n",
    "    audio_frames = np.array([audio[i:i+frame_size] for i in range(0, len(audio)-frame_size, hop_length)])\n",
    "    window = np.hanning(frame_size)\n",
    "    audio_frames = window * audio_frames\n",
    "    audio_spec = np.fft.rfft(audio_frames, fft_size, axis=1)\n",
    "    audio_mag = np.abs(audio_spec)\n",
    "    audio_phase = np.angle(audio_spec)\n",
    "\n",
    "    # Изменение продолжительности\n",
    "    new_size = int(round(len(audio_frames) * stretch_factor))\n",
    "    new_frames = np.zeros((new_size, frame_size), dtype=np.float32)\n",
    "    phase_advances = np.linspace(0, np.pi * hop_length, frame_size // 2 + 1)\n",
    "\n",
    "    for i in range(new_size):\n",
    "        t = float(i) / stretch_factor\n",
    "        i0 = int(t)\n",
    "        i1 = i0 + 1\n",
    "        alpha = t - i0\n",
    "        if i1 >= len(audio_frames):\n",
    "            break\n",
    "        mag = audio_mag[i0, :] * (1 - alpha) + audio_mag[i1, :] * alpha\n",
    "        phase = audio_phase[i1, :] + alpha * (audio_phase[i0, :] - audio_phase[i1, :])\n",
    "        phase_advance = phase_advances * stretch_factor\n",
    "        phase = phase + phase_advance\n",
    "        frame = mag * np.exp(1.0j * phase)\n",
    "        frame_ifft = np.fft.irfft(frame, frame_size)\n",
    "        new_frames[i, :] = frame_ifft * window\n",
    "\n",
    "    # Синтез нового аудиофайла\n",
    "    new_audio = np.zeros((new_size-1) * hop_length + frame_size, dtype=np.float32)\n",
    "    for i in range(new_size):\n",
    "        start = i * hop_length\n",
    "        end = start + frame_size\n",
    "        new_audio[start:end] += new_frames[i]\n",
    "        \n",
    "    # Проверяем содержание расширения .vaw\n",
    "    if not new_filename.endswith(\".wav\"):\n",
    "        new_filename += \".wav\"      \n",
    "        \n",
    "   # Cохраняем новый файл     \n",
    "    wavfile.write(new_filename, sr, new_audio.astype(np.int16))"
   ]
  }
 ],
 "metadata": {
  "kernelspec": {
   "display_name": "Python 3 (ipykernel)",
   "language": "python",
   "name": "python3"
  },
  "language_info": {
   "codemirror_mode": {
    "name": "ipython",
    "version": 3
   },
   "file_extension": ".py",
   "mimetype": "text/x-python",
   "name": "python",
   "nbconvert_exporter": "python",
   "pygments_lexer": "ipython3",
   "version": "3.8.6"
  },
  "nbTranslate": {
   "displayLangs": [
    "*"
   ],
   "hotkey": "alt-t",
   "langInMainMenu": true,
   "sourceLang": "en",
   "targetLang": "fr",
   "useGoogleTranslate": true
  },
  "varInspector": {
   "cols": {
    "lenName": 16,
    "lenType": 16,
    "lenVar": 40
   },
   "kernels_config": {
    "python": {
     "delete_cmd_postfix": "",
     "delete_cmd_prefix": "del ",
     "library": "var_list.py",
     "varRefreshCmd": "print(var_dic_list())"
    },
    "r": {
     "delete_cmd_postfix": ") ",
     "delete_cmd_prefix": "rm(",
     "library": "var_list.r",
     "varRefreshCmd": "cat(var_dic_list()) "
    }
   },
   "types_to_exclude": [
    "module",
    "function",
    "builtin_function_or_method",
    "instance",
    "_Feature"
   ],
   "window_display": false
  }
 },
 "nbformat": 4,
 "nbformat_minor": 5
}
