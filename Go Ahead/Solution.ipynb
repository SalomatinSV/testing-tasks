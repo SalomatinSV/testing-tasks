{
 "cells": [
  {
   "cell_type": "markdown",
   "metadata": {
    "id": "BBOwPAstXp-k"
   },
   "source": [
    "\n",
    "Логика\n",
    "\n",
    "У вас есть два шарика, которые разбиваются при падении с одной и той же высоты и здание из 100 этажей. Вы можете подниматься на любой этаж и бросать с него один из шариков.\n",
    "За какое минимальное количество бросков шариков можно выяснить наименьший номер этажа, при падении с которого шарики разбиваются?"
   ]
  },
  {
   "cell_type": "markdown",
   "metadata": {
    "id": "mAdH7i3LcOiN"
   },
   "source": [
    "Для решения данной задачи используем формулу вычисления суммы ряда последовательных натуральных чисел:\n",
    "\\begin{align}\n",
    "        \\ \\sum_{n=1}^kn =  \\frac{k(k + 1)}{2},  где\n",
    "    \\end{align}\n",
    "    k - число бросков, n - количесвто этажей.\n",
    "\n",
    "  Для нахождения числа бросков требуется решить квадратное уравнение:\n",
    "\\begin{align}\n",
    "        \\ k^2 + k - 2n = 0\n",
    "    \\end{align}\n",
    "  Для этого используем формулу дискриминанта:\n",
    "  \\begin{align}\n",
    "        \\ D = b^2 - 4 \\cdot a \\cdot c\n",
    "    \\end{align}\n",
    "    И нахождение корней: \n",
    "    \\begin{align}\n",
    "        \\ x_1,_2 =  \\frac{-1 \\pm \\sqrt(D)}{2}\n",
    "    \\end{align}"
   ]
  },
  {
   "cell_type": "code",
   "execution_count": null,
   "metadata": {
    "colab": {
     "base_uri": "https://localhost:8080/"
    },
    "executionInfo": {
     "elapsed": 632,
     "status": "ok",
     "timestamp": 1683113358921,
     "user": {
      "displayName": "Sergey S",
      "userId": "12835743375839813577"
     },
     "user_tz": -180
    },
    "id": "x6DIwd64Xb_m",
    "outputId": "39ad990b-f407-4a5b-b91e-8e640a626be5"
   },
   "outputs": [
    {
     "name": "stdout",
     "output_type": "stream",
     "text": [
      "13.650971698084906\n",
      "14\n"
     ]
    }
   ],
   "source": [
    "import math\n",
    "n = 100\n",
    "D = 1 - 4 * 1 * (-2 * n)\n",
    "# Так как нас интересует только значение > 0\n",
    "x = (-1 + math.sqrt(D)) / 2\n",
    "print(x)\n",
    "# Округляем данное значение до целого числа в большую сторону\n",
    "x = math.ceil(x)\n",
    "print(x)"
   ]
  },
  {
   "cell_type": "markdown",
   "metadata": {
    "id": "36AGBmOwDpkc"
   },
   "source": [
    "Для дома, высотой 100 этажей, потребуется максимум 14 бросков для нахождения минимального этажа, при котором разбиваются шары.\n",
    "Для нахождения минимального количества бросков, нужно определить минимальный этаж, на котором разобьется шар."
   ]
  },
  {
   "cell_type": "code",
   "execution_count": null,
   "metadata": {
    "colab": {
     "base_uri": "https://localhost:8080/"
    },
    "executionInfo": {
     "elapsed": 3505,
     "status": "ok",
     "timestamp": 1683114244534,
     "user": {
      "displayName": "Sergey S",
      "userId": "12835743375839813577"
     },
     "user_tz": -180
    },
    "id": "PkbRS9StghZC",
    "outputId": "2ec06015-22a7-42f7-de38-f08e8bb8bb9a"
   },
   "outputs": [
    {
     "name": "stdout",
     "output_type": "stream",
     "text": [
      "Введите этаж на котором шар разобьется: 57\n",
      "Потребовалось бросков: 12\n"
     ]
    }
   ],
   "source": [
    "# Напишем алгоритм поиска минимальных бросков:\n",
    "b = int(input(\"Введите этаж на котором шар разобьется: \"))\n",
    "a = x\n",
    "count = 0\n",
    "temp = 0\n",
    "c = a\n",
    "if a == b:\n",
    "    for i in range(a):\n",
    "        count += 1\n",
    "else:\n",
    "    while a != b:\n",
    "        # Если шар не разбился\n",
    "        if a < b:\n",
    "            temp = a\n",
    "            count += 1\n",
    "            a += c - count\n",
    "            # Если значение следующего этажа, с которого будем бросать шар больше максимаьного\n",
    "            if a > n:\n",
    "                a = temp + 1\n",
    "        # Если шар разбился\n",
    "        if a > b:\n",
    "            for i in range(a - temp):\n",
    "                count += 1\n",
    "                a = temp\n",
    "                a += i + 1\n",
    "                if a == b:\n",
    "                    break\n",
    "    if a == b:\n",
    "        count += 1\n",
    "\n",
    "print(f'Потребовалось бросков: {count}')"
   ]
  },
  {
   "cell_type": "markdown",
   "metadata": {
    "id": "EnBCfZ3BXgdt"
   },
   "source": [
    "Математика + программирование\n",
    "\n",
    "\n",
    "Дана кусочно-постоянная функция F: \\begin{align}\n",
    "        \\ f(x) = \\left\\{\n",
    "        \\begin{array}{cl}\n",
    "        a & x < c \\\\\n",
    "        b & x \\ge c\n",
    "        \\end{array}\n",
    "        \\right.\n",
    "    \\end{align}\n",
    "\n",
    "Напишите на любом ЯП (предпочтительно Python 3) программу, которая принимает на вход массив A пар (x, y) длины n, и возвращает кортеж из трех элементов (a, b, c), соответствующих параметрам функции F, при которых среднеквадратическое отклонение функции от точек из A минимально.\n",
    "Визуализация решения приветствуется.\n",
    "\n"
   ]
  },
  {
   "cell_type": "code",
   "execution_count": null,
   "metadata": {
    "id": "7Z1D2KpzXl1W"
   },
   "outputs": [],
   "source": [
    "import numpy as np\n",
    "from scipy.optimize import minimize\n",
    "\n",
    "def mnk(A):\n",
    "    x = np.array([a[0] for a in A])\n",
    "    y = np.array([a[1] for a in A])\n",
    "\n",
    "    # Определение функции для метода наименьших квадратов\n",
    "    def objective(params):\n",
    "        a, b, c = params\n",
    "        y_pred = np.piecewise(x, [x < c, x >= c], [a, b])\n",
    "        return np.mean((y - y_pred) ** 2)\n",
    "\n",
    "    # Нахождение оптимальных параметров методом минимизации\n",
    "    res = minimize(objective, x0=[np.min(y), np.max(y), np.mean(x)])\n",
    "    a, b, c = res.x\n",
    "\n",
    "    # Визуализация результатов\n",
    "    import matplotlib.pyplot as plt\n",
    "    plt.scatter(x, y)\n",
    "    plt.plot(x, np.piecewise(x, [x < c, x >= c], [a, b]), 'r')\n",
    "    plt.show()\n",
    "\n",
    "    return a, b, c"
   ]
  },
  {
   "cell_type": "code",
   "execution_count": null,
   "metadata": {
    "colab": {
     "base_uri": "https://localhost:8080/"
    },
    "executionInfo": {
     "elapsed": 16683,
     "status": "ok",
     "timestamp": 1683107942050,
     "user": {
      "displayName": "Sergey S",
      "userId": "12835743375839813577"
     },
     "user_tz": -180
    },
    "id": "L30IcSpiAeOz",
    "outputId": "465a8395-42a0-4b9e-e27a-b2d107ec51eb"
   },
   "outputs": [
    {
     "name": "stdout",
     "output_type": "stream",
     "text": [
      "Введите число пар точек: 5\n",
      "Введите координаты точки через пробел: 1 2\n",
      "Введите координаты точки через пробел: 3 4\n",
      "Введите координаты точки через пробел: 5 6\n",
      "Введите координаты точки через пробел: 8 9\n",
      "Введите координаты точки через пробел: 15 20\n"
     ]
    }
   ],
   "source": [
    "n = int(input(\"Введите число пар точек: \"))\n",
    "A = []\n",
    "for i in range(n):\n",
    "    x, y = map(int, input(\"Введите координаты точки через пробел: \").split())\n",
    "    A.append((x, y))"
   ]
  },
  {
   "cell_type": "code",
   "execution_count": null,
   "metadata": {
    "colab": {
     "base_uri": "https://localhost:8080/",
     "height": 447
    },
    "executionInfo": {
     "elapsed": 1171,
     "status": "ok",
     "timestamp": 1683107946155,
     "user": {
      "displayName": "Sergey S",
      "userId": "12835743375839813577"
     },
     "user_tz": -180
    },
    "id": "N94fI_W_YtfM",
    "outputId": "e9c4fd20-11d4-4122-ab34-5d057d034f33"
   },
   "outputs": [
    {
     "data": {
      "image/png": "[encoded data removed]",
      "text/plain": [
       "<Figure size 640x480 with 1 Axes>"
      ]
     },
     "metadata": {},
     "output_type": "display_data"
    },
    {
     "name": "stdout",
     "output_type": "stream",
     "text": [
      "2.0 20.0 6.4\n"
     ]
    }
   ],
   "source": [
    "a, b, c = mnk(A)\n",
    "print(a, b, c)"
   ]
  }
 ],
 "metadata": {
  "colab": {
   "authorship_tag": "ABX9TyO0tVfr2mPCPKouJg5DGZG2",
   "provenance": []
  },
  "kernelspec": {
   "display_name": "Python 3 (ipykernel)",
   "language": "python",
   "name": "python3"
  },
  "language_info": {
   "codemirror_mode": {
    "name": "ipython",
    "version": 3
   },
   "file_extension": ".py",
   "mimetype": "text/x-python",
   "name": "python",
   "nbconvert_exporter": "python",
   "pygments_lexer": "ipython3",
   "version": "3.8.6"
  },
  "nbTranslate": {
   "displayLangs": [
    "*"
   ],
   "hotkey": "alt-t",
   "langInMainMenu": true,
   "sourceLang": "en",
   "targetLang": "fr",
   "useGoogleTranslate": true
  },
  "varInspector": {
   "cols": {
    "lenName": 16,
    "lenType": 16,
    "lenVar": 40
   },
   "kernels_config": {
    "python": {
     "delete_cmd_postfix": "",
     "delete_cmd_prefix": "del ",
     "library": "var_list.py",
     "varRefreshCmd": "print(var_dic_list())"
    },
    "r": {
     "delete_cmd_postfix": ") ",
     "delete_cmd_prefix": "rm(",
     "library": "var_list.r",
     "varRefreshCmd": "cat(var_dic_list()) "
    }
   },
   "types_to_exclude": [
    "module",
    "function",
    "builtin_function_or_method",
    "instance",
    "_Feature"
   ],
   "window_display": false
  }
 },
 "nbformat": 4,
 "nbformat_minor": 1
}
